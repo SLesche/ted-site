{
  "cells": [
    {
      "cell_type": "raw",
      "metadata": {},
      "source": [
        "---\n",
        "title: \"Girard Redirect\"\n",
        "---"
      ],
      "id": "fa4d32a4"
    },
    {
      "cell_type": "markdown",
      "metadata": {},
      "source": [
        "```{html}\n",
        "<!DOCTYPE html>\n",
        "<html>\n",
        "  <head>\n",
        "    <meta http-equiv=\"refresh\" content=\"0; url='https://affcom.ku.edu/people/staff/girard_jeffrey.html'\" />\n",
        "  </head>\n",
        "  <body>\n",
        "    <p>Please follow <a href=\"https://affcom.ku.edu/people/staff/girard_jeffrey.html\">this link</a>.</p>\n",
        "  </body>\n",
        "</html>\n",
        "```"
      ],
      "id": "e6c2cb19"
    }
  ],
  "metadata": {
    "kernelspec": {
      "display_name": "Python 3",
      "language": "python",
      "name": "python3"
    }
  },
  "nbformat": 4,
  "nbformat_minor": 5
}